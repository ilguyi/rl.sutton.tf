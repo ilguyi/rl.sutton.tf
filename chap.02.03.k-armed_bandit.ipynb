{
 "cells": [
  {
   "cell_type": "code",
   "execution_count": 1,
   "metadata": {},
   "outputs": [],
   "source": [
    "import numpy as np\n",
    "import matplotlib.pyplot as plt\n",
    "\n",
    "np.random.seed(219)"
   ]
  },
  {
   "cell_type": "markdown",
   "metadata": {},
   "source": [
    "## hyperparameters"
   ]
  },
  {
   "cell_type": "code",
   "execution_count": 2,
   "metadata": {},
   "outputs": [],
   "source": [
    "k_armed_bandit = 10\n",
    "\n",
    "max_steps = 1000\n",
    "max_episodes = 2000"
   ]
  },
  {
   "cell_type": "markdown",
   "metadata": {},
   "source": [
    "## definition of function and class"
   ]
  },
  {
   "cell_type": "code",
   "execution_count": 3,
   "metadata": {},
   "outputs": [],
   "source": [
    "class k_armed_bandit_machine:\n",
    "  def __init__(self, k_armed_bandit):\n",
    "    self.k_armed_bandit = k_armed_bandit\n",
    "    \n",
    "    self.reward_dist_mean = np.random.normal(loc=0.0, scale=1.0, size=[self.k_armed_bandit])\n",
    "    #print(\"reward_dist_mean: expected reward q*\")\n",
    "    #print(self.reward_dist_mean)\n",
    "\n",
    "    #reward_dist_stddev = np.random.uniform(low=0.0, high=2.0, size=[k_armed_bandit])\n",
    "    self.reward_dist_stddev = np.ones(self.k_armed_bandit)\n",
    "    #print(\"reward_dist_stddev: standard deviation of expected reward q*\")\n",
    "    #print(self.reward_dist_stddev)\n",
    "    \n",
    "    self.optimal_action = np.argmax(self.reward_dist_mean)\n",
    "    #print(\"optimal_action:\", self.optimal_action)\n",
    "\n",
    "  def pulling_arm(self, arm_number):\n",
    "    \"\"\"pull k armed bandit machine given arm_number\n",
    "    Args:\n",
    "      arm_number: int, machine number we select. [0, k_armed_bandit-1]\n",
    "\n",
    "    Returns:\n",
    "      reward: reward of the machine we select from normal distribution.\n",
    "    \"\"\"\n",
    "    assert arm_number < self.k_armed_bandit\n",
    "    return np.random.normal(loc=self.reward_dist_mean[arm_number],\n",
    "                            scale=self.reward_dist_stddev[arm_number])\n",
    "  \n",
    "  def get_optimal_action(self):\n",
    "    return self.optimal_action"
   ]
  },
  {
   "cell_type": "code",
   "execution_count": 4,
   "metadata": {},
   "outputs": [],
   "source": [
    "class q_function:\n",
    "  def __init__(self, k_armed_bandit):\n",
    "    self.q_values = np.zeros(k_armed_bandit)\n",
    "    self.q_values_count = np.zeros(k_armed_bandit)\n",
    "    \n",
    "  def select_action(self):\n",
    "    return np.argmax(self.q_values)\n",
    "  \n",
    "  def update(self, reward, action):\n",
    "    self.q_values_count[action] += 1\n",
    "    self.q_values[action] += (reward - self.q_values[action]) / self.q_values_count[action]"
   ]
  },
  {
   "cell_type": "markdown",
   "metadata": {},
   "source": [
    "## Training"
   ]
  },
  {
   "cell_type": "markdown",
   "metadata": {},
   "source": [
    "### one episode, $\\epsilon = 0.1$ for test"
   ]
  },
  {
   "cell_type": "code",
   "execution_count": 5,
   "metadata": {},
   "outputs": [],
   "source": [
    "epsilon = 0.1\n",
    "\n",
    "my_bandit = k_armed_bandit_machine(k_armed_bandit)\n",
    "my_q = q_function(k_armed_bandit)\n",
    "for step in range(max_steps):  \n",
    "  # epsilon greedy method\n",
    "  if epsilon < np.random.rand():\n",
    "    action = my_q.select_action()\n",
    "  else:\n",
    "    action = np.random.choice(k_armed_bandit)\n",
    "  #print(action)\n",
    "\n",
    "  reward = my_bandit.pulling_arm(action)\n",
    "  #print(reward)\n",
    "  my_q.update(reward, action)"
   ]
  },
  {
   "cell_type": "markdown",
   "metadata": {},
   "source": [
    "### 2000 episodes, $\\epsilon = 0.1$"
   ]
  },
  {
   "cell_type": "code",
   "execution_count": 6,
   "metadata": {},
   "outputs": [
    {
     "name": "stdout",
     "output_type": "stream",
     "text": [
      "episode:  0\n",
      "episode:  100\n",
      "episode:  200\n",
      "episode:  300\n",
      "episode:  400\n",
      "episode:  500\n",
      "episode:  600\n",
      "episode:  700\n",
      "episode:  800\n",
      "episode:  900\n",
      "episode:  1000\n",
      "episode:  1100\n",
      "episode:  1200\n",
      "episode:  1300\n",
      "episode:  1400\n",
      "episode:  1500\n",
      "episode:  1600\n",
      "episode:  1700\n",
      "episode:  1800\n",
      "episode:  1900\n"
     ]
    }
   ],
   "source": [
    "epsilon = 0.1\n",
    "\n",
    "average_rewards_1 = np.zeros(max_steps)\n",
    "optimal_action_1 = np.zeros(max_steps)\n",
    "\n",
    "for episode in range(max_episodes):\n",
    "  if episode % 100 == 0:\n",
    "    print(\"episode: \", episode)\n",
    "    \n",
    "  my_bandit = k_armed_bandit_machine(k_armed_bandit)\n",
    "  my_q = q_function(k_armed_bandit)\n",
    "  for step in range(max_steps):\n",
    "    # epsilon greedy method\n",
    "    if epsilon < np.random.rand():\n",
    "      action = my_q.select_action()\n",
    "    else:\n",
    "      action = np.random.choice(k_armed_bandit)\n",
    "\n",
    "    if action == my_bandit.get_optimal_action():\n",
    "      optimal_action_1[step] += 1.0\n",
    "      \n",
    "    reward = my_bandit.pulling_arm(action)\n",
    "    average_rewards_1[step] += reward\n",
    "    my_q.update(reward, action)\n",
    "    \n",
    "average_rewards_1 /= max_episodes\n",
    "optimal_action_1 /= max_episodes"
   ]
  },
  {
   "cell_type": "markdown",
   "metadata": {},
   "source": [
    "### 2000 episodes, $\\epsilon = 0.01$"
   ]
  },
  {
   "cell_type": "code",
   "execution_count": 7,
   "metadata": {},
   "outputs": [
    {
     "name": "stdout",
     "output_type": "stream",
     "text": [
      "episode:  0\n",
      "episode:  100\n",
      "episode:  200\n",
      "episode:  300\n",
      "episode:  400\n",
      "episode:  500\n",
      "episode:  600\n",
      "episode:  700\n",
      "episode:  800\n",
      "episode:  900\n",
      "episode:  1000\n",
      "episode:  1100\n",
      "episode:  1200\n",
      "episode:  1300\n",
      "episode:  1400\n",
      "episode:  1500\n",
      "episode:  1600\n",
      "episode:  1700\n",
      "episode:  1800\n",
      "episode:  1900\n"
     ]
    }
   ],
   "source": [
    "epsilon = 0.01\n",
    "\n",
    "average_rewards_2 = np.zeros(max_steps)\n",
    "optimal_action_2 = np.zeros(max_steps)\n",
    "\n",
    "for episode in range(max_episodes):\n",
    "  if episode % 100 == 0:\n",
    "    print(\"episode: \", episode)\n",
    "    \n",
    "  my_bandit = k_armed_bandit_machine(k_armed_bandit)\n",
    "  my_q = q_function(k_armed_bandit)\n",
    "  for step in range(max_steps):\n",
    "    # epsilon greedy method\n",
    "    if epsilon < np.random.rand():\n",
    "      action = my_q.select_action()\n",
    "    else:\n",
    "      action = np.random.choice(k_armed_bandit)\n",
    "\n",
    "    if action == my_bandit.get_optimal_action():\n",
    "      optimal_action_2[step] += 1.0\n",
    "      \n",
    "    reward = my_bandit.pulling_arm(action)\n",
    "    average_rewards_2[step] += reward\n",
    "    my_q.update(reward, action)\n",
    "    \n",
    "average_rewards_2 /= max_episodes\n",
    "optimal_action_2 /= max_episodes"
   ]
  },
  {
   "cell_type": "markdown",
   "metadata": {},
   "source": [
    "### 2000 episodes, $\\epsilon = 0.0$"
   ]
  },
  {
   "cell_type": "code",
   "execution_count": 8,
   "metadata": {},
   "outputs": [
    {
     "name": "stdout",
     "output_type": "stream",
     "text": [
      "episode:  0\n",
      "episode:  100\n",
      "episode:  200\n",
      "episode:  300\n",
      "episode:  400\n",
      "episode:  500\n",
      "episode:  600\n",
      "episode:  700\n",
      "episode:  800\n",
      "episode:  900\n",
      "episode:  1000\n",
      "episode:  1100\n",
      "episode:  1200\n",
      "episode:  1300\n",
      "episode:  1400\n",
      "episode:  1500\n",
      "episode:  1600\n",
      "episode:  1700\n",
      "episode:  1800\n",
      "episode:  1900\n"
     ]
    }
   ],
   "source": [
    "epsilon = 0.0\n",
    "\n",
    "average_rewards_3 = np.zeros(max_steps)\n",
    "optimal_action_3 = np.zeros(max_steps)\n",
    "\n",
    "for episode in range(max_episodes):\n",
    "  if episode % 100 == 0:\n",
    "    print(\"episode: \", episode)\n",
    "    \n",
    "  my_bandit = k_armed_bandit_machine(k_armed_bandit)\n",
    "  my_q = q_function(k_armed_bandit)\n",
    "  for step in range(max_steps):\n",
    "    # epsilon greedy method\n",
    "    if epsilon < np.random.rand():\n",
    "      action = my_q.select_action()\n",
    "    else:\n",
    "      action = np.random.choice(k_armed_bandit)\n",
    "\n",
    "    if action == my_bandit.get_optimal_action():\n",
    "      optimal_action_3[step] += 1.0\n",
    "      \n",
    "    reward = my_bandit.pulling_arm(action)\n",
    "    average_rewards_3[step] += reward\n",
    "    my_q.update(reward, action)\n",
    "    \n",
    "average_rewards_3 /= max_episodes\n",
    "optimal_action_3 /= max_episodes"
   ]
  },
  {
   "cell_type": "code",
   "execution_count": 9,
   "metadata": {},
   "outputs": [
    {
     "data": {
      "image/png": "[encoded data removed]",
      "text/plain": [
       "<matplotlib.figure.Figure at 0x10daccba8>"
      ]
     },
     "metadata": {},
     "output_type": "display_data"
    }
   ],
   "source": [
    "plt.plot(range(max_steps), average_rewards_1, label='epsilon=0.1')\n",
    "plt.plot(range(max_steps), average_rewards_2, label='epsilon=0.01')\n",
    "plt.plot(range(max_steps), average_rewards_3, label='epsilon=0.0')\n",
    "plt.legend()\n",
    "plt.show()"
   ]
  },
  {
   "cell_type": "code",
   "execution_count": 10,
   "metadata": {},
   "outputs": [
    {
     "data": {
      "image/png": "[encoded data removed]",
      "text/plain": [
       "<matplotlib.figure.Figure at 0x10dacc780>"
      ]
     },
     "metadata": {},
     "output_type": "display_data"
    }
   ],
   "source": [
    "plt.plot(range(max_steps), optimal_action_1, label='epsilon=0.1')\n",
    "plt.plot(range(max_steps), optimal_action_2, label='epsilon=0.01')\n",
    "plt.plot(range(max_steps), optimal_action_3, label='epsilon=0.0')\n",
    "plt.legend()\n",
    "plt.show()"
   ]
  },
  {
   "cell_type": "code",
   "execution_count": null,
   "metadata": {},
   "outputs": [],
   "source": []
  }
 ],
 "metadata": {
  "kernelspec": {
   "display_name": "Python 3",
   "language": "python",
   "name": "python3"
  },
  "language_info": {
   "codemirror_mode": {
    "name": "ipython",
    "version": 3
   },
   "file_extension": ".py",
   "mimetype": "text/x-python",
   "name": "python",
   "nbconvert_exporter": "python",
   "pygments_lexer": "ipython3",
   "version": "3.6.4"
  }
 },
 "nbformat": 4,
 "nbformat_minor": 2
}
