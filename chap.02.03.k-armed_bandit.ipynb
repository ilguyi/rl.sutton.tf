{
 "cells": [
  {
   "cell_type": "code",
   "execution_count": 1,
   "metadata": {},
   "outputs": [],
   "source": [
    "import numpy as np\n",
    "import matplotlib.pyplot as plt\n",
    "\n",
    "np.random.seed(219)"
   ]
  },
  {
   "cell_type": "markdown",
   "metadata": {},
   "source": [
    "## hyperparameters"
   ]
  },
  {
   "cell_type": "code",
   "execution_count": 2,
   "metadata": {},
   "outputs": [
    {
     "name": "stdout",
     "output_type": "stream",
     "text": [
      "reward_dist_mean: expected reward q*\n",
      "[-0.57136961 -0.79957744  0.25927551  0.53070607  1.07957281 -0.24434696\n",
      "  1.51111158  0.24604793 -0.51050475  0.68989384]\n",
      "reward_dist_stddev: standard deviation of expected reward q*\n",
      "[1. 1. 1. 1. 1. 1. 1. 1. 1. 1.]\n"
     ]
    }
   ],
   "source": [
    "k_armed_bandit = 10\n",
    "#reward_dist_mean = np.random.uniform(low=-2.0, high=2.0, size=[k_armed_bandit])\n",
    "reward_dist_mean = np.random.normal(loc=0.0, scale=1.0, size=[k_armed_bandit])\n",
    "print(\"reward_dist_mean: expected reward q*\")\n",
    "print(reward_dist_mean)\n",
    "#reward_dist_stddev = np.random.uniform(low=0.0, high=2.0, size=[k_armed_bandit])\n",
    "reward_dist_stddev = np.full((k_armed_bandit), 1.0)\n",
    "print(\"reward_dist_stddev: standard deviation of expected reward q*\")\n",
    "print(reward_dist_stddev)\n",
    "\n",
    "optimal_action = np.argmax(reward_dist_mean)\n",
    "\n",
    "max_steps = 1000\n",
    "max_episodes = 2000\n",
    "epsilon = 0.1"
   ]
  },
  {
   "cell_type": "markdown",
   "metadata": {},
   "source": [
    "## definition of function and class"
   ]
  },
  {
   "cell_type": "code",
   "execution_count": 3,
   "metadata": {},
   "outputs": [],
   "source": [
    "def k_armed_bandit_machine(arm_number):\n",
    "  \"\"\" k armed bandit machine\n",
    "  Args:\n",
    "    arm_number: int, machine number we select. [0, k_armed_bandit-1]\n",
    "    \n",
    "  Returns:\n",
    "    reward: reward of the machine we select from normal distribution.\n",
    "  \"\"\"\n",
    "  assert arm_number < k_armed_bandit\n",
    "  return np.random.normal(loc=reward_dist_mean[arm_number],\n",
    "                          scale=reward_dist_stddev[arm_number])"
   ]
  },
  {
   "cell_type": "code",
   "execution_count": 4,
   "metadata": {},
   "outputs": [],
   "source": [
    "class q_function:\n",
    "  def __init__(self):\n",
    "    self.q_values = np.full((k_armed_bandit), 0.0)\n",
    "    self.q_values_count = np.full((k_armed_bandit), 0.0)\n",
    "    \n",
    "  def select_action(self):\n",
    "    return np.argmax(self.q_values)\n",
    "  \n",
    "  def update(self, reward, action):\n",
    "    self.q_values_count[action] += 1\n",
    "    #self.q_values[action] += reward\n",
    "    self.q_values[action] += (reward - self.q_values[action]) / self.q_values_count[action]"
   ]
  },
  {
   "cell_type": "markdown",
   "metadata": {},
   "source": [
    "## Training"
   ]
  },
  {
   "cell_type": "markdown",
   "metadata": {},
   "source": [
    "### one episode"
   ]
  },
  {
   "cell_type": "code",
   "execution_count": 5,
   "metadata": {},
   "outputs": [],
   "source": [
    "my_q = q_function()\n",
    "for step in range(max_steps):\n",
    "  #print(my_q.q_values)\n",
    "  #print(my_q.q_values_count)\n",
    "  \n",
    "  # epsilon greedy method\n",
    "  if epsilon < np.random.rand():\n",
    "    action = my_q.select_action()\n",
    "  else:\n",
    "    action = np.random.choice(k_armed_bandit)\n",
    "    \n",
    "  #print(action)\n",
    "  reward = k_armed_bandit_machine(action)\n",
    "  #print(reward)\n",
    "  my_q.update(reward, action)"
   ]
  },
  {
   "cell_type": "markdown",
   "metadata": {},
   "source": [
    "### 2000 episodes, epsilon = 0.1"
   ]
  },
  {
   "cell_type": "code",
   "execution_count": 6,
   "metadata": {},
   "outputs": [],
   "source": [
    "average_rewards_1 = np.zeros(max_steps)\n",
    "optimal_action_1 = np.zeros(max_steps)\n",
    "for episode in range(max_episodes):\n",
    "  my_q = q_function()\n",
    "  for step in range(max_steps):\n",
    "    # epsilon greedy method\n",
    "    if epsilon < np.random.rand():\n",
    "      action = my_q.select_action()\n",
    "    else:\n",
    "      action = np.random.choice(k_armed_bandit)\n",
    "\n",
    "    if action == optimal_action:\n",
    "      optimal_action_1[step] += 1.0\n",
    "      \n",
    "    reward = k_armed_bandit_machine(action)\n",
    "    average_rewards_1[step] += reward\n",
    "    my_q.update(reward, action)\n",
    "    \n",
    "average_rewards_1 /= max_episodes\n",
    "optimal_action_1 /= max_episodes"
   ]
  },
  {
   "cell_type": "markdown",
   "metadata": {},
   "source": [
    "### 2000 episodes, epsilon = 0.01"
   ]
  },
  {
   "cell_type": "code",
   "execution_count": 7,
   "metadata": {},
   "outputs": [],
   "source": [
    "epsilon = 0.01\n",
    "average_rewards_2 = np.zeros(max_steps)\n",
    "optimal_action_2 = np.zeros(max_steps)\n",
    "for episode in range(max_episodes):\n",
    "  my_q = q_function()\n",
    "  for step in range(max_steps):\n",
    "    # epsilon greedy method\n",
    "    if epsilon < np.random.rand():\n",
    "      action = my_q.select_action()\n",
    "    else:\n",
    "      action = np.random.choice(k_armed_bandit)\n",
    "      \n",
    "    if action == optimal_action:\n",
    "      optimal_action_2[step] += 1.0\n",
    "\n",
    "    reward = k_armed_bandit_machine(action)\n",
    "    average_rewards_2[step] += reward\n",
    "    my_q.update(reward, action)\n",
    "    \n",
    "average_rewards_2 /= max_episodes\n",
    "optimal_action_2 /= max_episodes"
   ]
  },
  {
   "cell_type": "markdown",
   "metadata": {},
   "source": [
    "### 2000 episodes, epsilon = 0.0"
   ]
  },
  {
   "cell_type": "code",
   "execution_count": 8,
   "metadata": {},
   "outputs": [],
   "source": [
    "epsilon = 0.0\n",
    "average_rewards_3 = np.zeros(max_steps)\n",
    "optimal_action_3 = np.zeros(max_steps)\n",
    "for episode in range(max_episodes):\n",
    "  my_q = q_function()\n",
    "  for step in range(max_steps):\n",
    "    # epsilon greedy method\n",
    "    if epsilon < np.random.rand():\n",
    "      action = my_q.select_action()\n",
    "    else:\n",
    "      action = np.random.choice(k_armed_bandit)\n",
    "      \n",
    "    if action == optimal_action:\n",
    "      optimal_action_3[step] += 1.0\n",
    "\n",
    "    reward = k_armed_bandit_machine(action)\n",
    "    average_rewards_3[step] += reward\n",
    "    my_q.update(reward, action)\n",
    "    \n",
    "average_rewards_3 /= max_episodes\n",
    "optimal_action_3 /= max_episodes"
   ]
  },
  {
   "cell_type": "code",
   "execution_count": 9,
   "metadata": {},
   "outputs": [
    {
     "data": {
      "image/png": "[encoded data removed]",
      "text/plain": [
       "<matplotlib.figure.Figure at 0x10899b780>"
      ]
     },
     "metadata": {},
     "output_type": "display_data"
    }
   ],
   "source": [
    "plt.plot(range(max_steps), average_rewards_1, label='epsilon=0.1')\n",
    "plt.plot(range(max_steps), average_rewards_2, label='epsilon=0.01')\n",
    "plt.plot(range(max_steps), average_rewards_3, label='epsilon=0.0')\n",
    "plt.legend()\n",
    "plt.show()"
   ]
  },
  {
   "cell_type": "code",
   "execution_count": 10,
   "metadata": {},
   "outputs": [
    {
     "data": {
      "image/png": "[encoded data removed]",
      "text/plain": [
       "<matplotlib.figure.Figure at 0x1089be748>"
      ]
     },
     "metadata": {},
     "output_type": "display_data"
    }
   ],
   "source": [
    "plt.plot(range(max_steps), optimal_action_1, label='epsilon=0.1')\n",
    "plt.plot(range(max_steps), optimal_action_2, label='epsilon=0.01')\n",
    "plt.plot(range(max_steps), optimal_action_3, label='epsilon=0.0')\n",
    "plt.legend()\n",
    "plt.show()"
   ]
  },
  {
   "cell_type": "code",
   "execution_count": null,
   "metadata": {},
   "outputs": [],
   "source": []
  }
 ],
 "metadata": {
  "kernelspec": {
   "display_name": "Python 3",
   "language": "python",
   "name": "python3"
  },
  "language_info": {
   "codemirror_mode": {
    "name": "ipython",
    "version": 3
   },
   "file_extension": ".py",
   "mimetype": "text/x-python",
   "name": "python",
   "nbconvert_exporter": "python",
   "pygments_lexer": "ipython3",
   "version": "3.6.4"
  }
 },
 "nbformat": 4,
 "nbformat_minor": 2
}
