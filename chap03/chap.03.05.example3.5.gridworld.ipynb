{
 "cells": [
  {
   "cell_type": "markdown",
   "metadata": {},
   "source": [
    "# Example 3.5: Gridworld"
   ]
  },
  {
   "cell_type": "markdown",
   "metadata": {},
   "source": [
    "<img src=\"figures/chap.03.05.example3.5.gridworld.png\" width=\"70%\">"
   ]
  },
  {
   "cell_type": "markdown",
   "metadata": {},
   "source": [
    "* 각 cell에서 취할 수 있는 actions: `north`, `south`, `east`, and `west`\n",
    "* deterministic action\n",
    "* 경계를 벗어나는 action에 대해서는 state가 변하지 않고 reward `-1`을 받음\n",
    "* 나머지 다른 action(state `A`와 `B`에 있을때를 빼고)에 대해서는 reward `0`을 받음\n",
    "* state `A`에서는 어떤 action을 하던지 state `A'`으로 가고 reward `+10`을 받음\n",
    "* state `B`에서는 어떤 action을 하던지 state `B'`으로 가고 reward `+5`을 받음"
   ]
  },
  {
   "cell_type": "code",
   "execution_count": 1,
   "metadata": {},
   "outputs": [],
   "source": [
    "import numpy as np\n",
    "np.set_printoptions(precision=1)"
   ]
  },
  {
   "cell_type": "markdown",
   "metadata": {},
   "source": [
    "### Grid world state index\n",
    "\n",
    "|   |   |   |   |   |\n",
    "|----|----|----|----|----|\n",
    "| 0,0  | 0,1 | 0,2 | 0,3 | 0,4 |\n",
    "| 1,0  | 1,1 | 1,2 | 1,3 | 1,4 |\n",
    "| 2,0  | 2,1 | 2,2 | 2,3 | 2,4 |\n",
    "| 3,0  | 3,1 | 3,2 | 3,3 | 3,4 |\n",
    "| 4,0  | 4,1 | 4,2 | 4,3 | 4,4 |"
   ]
  },
  {
   "cell_type": "markdown",
   "metadata": {},
   "source": [
    "## Bellman equation\n",
    "\n",
    "$$v_{\\pi}(s) = \\sum_{a} \\pi(a | s)\n",
    "\\sum_{s', r} p(s', r | s, a)\n",
    "\\left[ r + \\gamma v_{\\pi}(s') \\right]$$\n",
    "\n",
    "* $p(s', r | s, a)$: deterministic\n",
    "  * $p(s'=(4,1), \\, r=10 \\ | \\ s=(0,1), \\, a=\\textrm{'north'}) = 1$\n",
    "    * state $A$에서 'north' 방향으로 움직였을 때 다음 state가 $(4,1)$ 이고 reward 10을 받을 확률은 1\n",
    "  * $p(s'=(2,1), \\, r=0 \\ | \\ s=(1,1), \\, a=\\textrm{'north'}) = 0$\n",
    "    * state $(1,1)$에서 'north' 방향으로 움직였을 때 다음 state가 $(2,1)$ 이고 reward 0을 받을 확률은 0\n",
    "    * deterministic 이라 $s'=(0,1)$만 허용됨"
   ]
  },
  {
   "cell_type": "markdown",
   "metadata": {},
   "source": [
    "#### `self.M`\n",
    "\n",
    "* linear equation의 계수를을 모아놓은 matrix\n",
    "\n",
    "$$ M V = R$$\n",
    "\n",
    "$$ \\left[ \\begin{array}{cccc}\n",
    "w_{0,0} & w_{0,1} & \\cdots  & w_{0,24} \\\\\n",
    "w_{1,0} & w_{1,1} & \\cdots  & w_{1,24} \\\\\n",
    "\\vdots & \\vdots & \\vdots & \\vdots \\\\\n",
    "w_{24,0} & w_{24,1} & \\cdots  & w_{24,24}\n",
    "\\end{array} \\right]\n",
    "\\left[ \\begin{array}{c}\n",
    "v_{\\pi}(s_{(0, 0)}) \\\\\n",
    "v_{\\pi}(s_{(0, 1)}) \\\\\n",
    "\\vdots \\\\\n",
    "v_{\\pi}(s_{(4, 4)}) \\\\\n",
    "\\end{array} \\right]\n",
    "= \\left[ \\begin{array}{c}\n",
    "\\frac{1}{4} R_{s_{(0, 0)}} \\\\\n",
    "\\frac{1}{4} R_{s_{(0, 1)}} \\\\\n",
    "\\vdots \\\\\n",
    "\\frac{1}{4} R_{s_{(4, 4)}} \\\\\n",
    "\\end{array} \\right]\n",
    "$$\n",
    "\n",
    "where $R_{s_{(0, 0)}} = r_{a=\\textrm{'north'}} + r_{a=\\textrm{'south'}} + r_{a=\\textrm{'east'}} + r_{a=\\textrm{'west'}}$"
   ]
  },
  {
   "cell_type": "code",
   "execution_count": 2,
   "metadata": {},
   "outputs": [],
   "source": [
    "class GridworldEnv():\n",
    "  def __init__(self, size=5):\n",
    "    self.actions = ['north', 'south', 'east', 'west']\n",
    "    self.A = (0, 1) # special site\n",
    "    self.B = (0, 3) # special site\n",
    "    self.M = np.eye(size * size)\n",
    "    self.R = np.zeros(size * size)\n",
    "    self.gamma = 0.9\n",
    "    self.size = size\n",
    "    \n",
    "  def BellmanEquation(self, state):\n",
    "    \"\"\"\n",
    "    Args:\n",
    "      state: tuple (x, y) coordinate\n",
    "    \"\"\"\n",
    "    x, y = state\n",
    "    state_index = x * self.size + y\n",
    "    for action in self.actions:\n",
    "      next_state, reward = self.Step(state, action)\n",
    "      next_stete_index = next_state[0] * self.size + next_state[1]\n",
    "      self.M[state_index, next_stete_index] -= 0.25 * self.gamma\n",
    "      self.R[state_index] += 0.25 * reward\n",
    "      \n",
    "  def Step(self, state, action):\n",
    "    \"\"\"\n",
    "    Args:\n",
    "      state: tuple (x, y) coordinate\n",
    "      action: string\n",
    "      \n",
    "    Returns:\n",
    "      next_state: tuple (x, y) coordinate\n",
    "      reward: int\n",
    "    \"\"\"\n",
    "    if state == self.A:\n",
    "      # 모든 action에 대해 next_state=(4, 1), reward=10 을 준다.\n",
    "      return (4, 1), 10\n",
    "    elif state == self.B:\n",
    "      # 모든 action에 대해 next_state=(2, 3), reward=5 을 준다.\n",
    "      return (2, 3), 5\n",
    "    else:\n",
    "      if action == 'north':\n",
    "        if state[0] > 0:\n",
    "          next_state = (state[0]-1, state[1])\n",
    "          reward = 0\n",
    "        else:\n",
    "          next_state = state\n",
    "          reward = -1\n",
    "      elif action == 'south':\n",
    "        if state[0] < 4:\n",
    "          next_state = (state[0]+1, state[1])\n",
    "          reward = 0\n",
    "        else:\n",
    "          next_state = state\n",
    "          reward = -1\n",
    "      elif action == 'east':\n",
    "        if state[1] < 4:\n",
    "          next_state = (state[0], state[1]+1)\n",
    "          reward = 0\n",
    "        else:\n",
    "          next_state = state\n",
    "          reward = -1\n",
    "      elif action == 'west':\n",
    "        if state[1] > 0:\n",
    "          next_state = (state[0], state[1]-1)\n",
    "          reward = 0\n",
    "        else:\n",
    "          next_state = state\n",
    "          reward = -1\n",
    "      return next_state, reward\n",
    "    \n",
    "  def AllBellmanEquations(self):\n",
    "    for i in range(self.size):\n",
    "      for j in range(self.size):\n",
    "        self.BellmanEquation((i, j))\n",
    "        \n",
    "  def SolveLinearBellmanEquations(self):\n",
    "    self.AllBellmanEquations()\n",
    "    solution = np.linalg.solve(self.M, self.R)\n",
    "    solution = solution.reshape(self.size, self.size)\n",
    "    return solution"
   ]
  },
  {
   "cell_type": "code",
   "execution_count": 3,
   "metadata": {},
   "outputs": [
    {
     "name": "stdout",
     "output_type": "stream",
     "text": [
      "[[ 3.3  8.8  4.4  5.3  1.5]\n",
      " [ 1.5  3.   2.3  1.9  0.5]\n",
      " [ 0.1  0.7  0.7  0.4 -0.4]\n",
      " [-1.  -0.4 -0.4 -0.6 -1.2]\n",
      " [-1.9 -1.3 -1.2 -1.4 -2. ]]\n"
     ]
    }
   ],
   "source": [
    "g = GridworldEnv()\n",
    "solution = g.SolveLinearBellmanEquations()\n",
    "print(solution)"
   ]
  },
  {
   "cell_type": "markdown",
   "metadata": {},
   "source": [
    "### Results\n",
    "\n",
    "<img src=\"figures/chap.03.05.example3.5.gridworld.png\" width=\"70%\">"
   ]
  }
 ],
 "metadata": {
  "kernelspec": {
   "display_name": "Python 3",
   "language": "python",
   "name": "python3"
  },
  "language_info": {
   "codemirror_mode": {
    "name": "ipython",
    "version": 3
   },
   "file_extension": ".py",
   "mimetype": "text/x-python",
   "name": "python",
   "nbconvert_exporter": "python",
   "pygments_lexer": "ipython3",
   "version": "3.6.5"
  }
 },
 "nbformat": 4,
 "nbformat_minor": 2
}
