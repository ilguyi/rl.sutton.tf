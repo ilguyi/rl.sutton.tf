{
 "cells": [
  {
   "cell_type": "code",
   "execution_count": 1,
   "metadata": {},
   "outputs": [],
   "source": [
    "import numpy as np\n",
    "import matplotlib.pyplot as plt\n",
    "\n",
    "np.random.seed(219)"
   ]
  },
  {
   "cell_type": "markdown",
   "metadata": {},
   "source": [
    "## hyperparameters"
   ]
  },
  {
   "cell_type": "code",
   "execution_count": 2,
   "metadata": {},
   "outputs": [],
   "source": [
    "k_armed_bandit = 10\n",
    "\n",
    "max_steps = 1000\n",
    "max_episodes = 2000\n",
    "alpha = 0.1"
   ]
  },
  {
   "cell_type": "markdown",
   "metadata": {},
   "source": [
    "## definition of function and class"
   ]
  },
  {
   "cell_type": "code",
   "execution_count": 3,
   "metadata": {},
   "outputs": [],
   "source": [
    "class k_armed_bandit_machine:\n",
    "  def __init__(self, k_armed_bandit):\n",
    "    self.k_armed_bandit = k_armed_bandit\n",
    "    \n",
    "    self.reward_dist_mean = np.random.normal(loc=0.0, scale=1.0, size=[self.k_armed_bandit])\n",
    "    #self.reward_dist_mean = np.zeros(self.k_armed_bandit)\n",
    "    #print(\"reward_dist_mean: expected reward q*\")\n",
    "    #print(self.reward_dist_mean)\n",
    "\n",
    "    self.reward_dist_stddev = np.ones(self.k_armed_bandit)\n",
    "    #print(\"reward_dist_stddev: standard deviation of expected reward q*\")\n",
    "    #print(self.reward_dist_stddev)\n",
    "    \n",
    "  def pulling_arm(self, arm_number):\n",
    "    \"\"\"pull k armed bandit machine given arm_number\n",
    "    Args:\n",
    "      arm_number: int, machine number we select. [0, k_armed_bandit-1]\n",
    "\n",
    "    Returns:\n",
    "      reward: reward of the machine we select from normal distribution.\n",
    "    \"\"\"\n",
    "    assert arm_number < self.k_armed_bandit\n",
    "    return np.random.normal(loc=self.reward_dist_mean[arm_number],\n",
    "                            scale=self.reward_dist_stddev[arm_number])\n",
    "  \n",
    "  def reward_dist_update(self):\n",
    "    random_walk_size = np.random.normal(loc=0.0, scale=0.01, size=[self.k_armed_bandit])\n",
    "    self.reward_dist_mean += random_walk_size\n",
    "    \n",
    "  def get_optimal_action_at_t(self):\n",
    "    self.optimal_action = np.argmax(self.reward_dist_mean)\n",
    "    return self.optimal_action"
   ]
  },
  {
   "cell_type": "code",
   "execution_count": 4,
   "metadata": {},
   "outputs": [],
   "source": [
    "class q_function:\n",
    "  def __init__(self, k_armed_bandit, alpha, q_initial_value):\n",
    "    #self.q_values = np.zeros(k_armed_bandit)\n",
    "    self.q_values = np.full([k_armed_bandit], q_initial_value, dtype=np.float32)\n",
    "    self.alpha = alpha\n",
    "    \n",
    "  def select_action(self):\n",
    "    return np.argmax(self.q_values)\n",
    "  \n",
    "  def update(self, reward, action):\n",
    "    self.q_values[action] += self.alpha * (reward - self.q_values[action])"
   ]
  },
  {
   "cell_type": "markdown",
   "metadata": {},
   "source": [
    "## Training"
   ]
  },
  {
   "cell_type": "markdown",
   "metadata": {},
   "source": [
    "### one episode, $\\epsilon = 0.1$ for code validation"
   ]
  },
  {
   "cell_type": "code",
   "execution_count": 5,
   "metadata": {
    "scrolled": true
   },
   "outputs": [],
   "source": [
    "q_initial_value = 0.0\n",
    "epsilon = 0.1\n",
    "\n",
    "my_bandit = k_armed_bandit_machine(k_armed_bandit)\n",
    "my_q = q_function(k_armed_bandit, alpha, q_initial_value)\n",
    "\n",
    "for step in range(max_steps):\n",
    "  #print(my_bandit.reward_dist_mean)\n",
    "  # epsilon greedy method\n",
    "  if epsilon < np.random.rand():\n",
    "    action = my_q.select_action()\n",
    "    #print(\"greedy\")\n",
    "  else:\n",
    "    action = np.random.choice(k_armed_bandit)\n",
    "    #print(\"random\")\n",
    "  \n",
    "  #print(my_q.q_values)\n",
    "  #print(\"optimal:\", my_bandit.get_optimal_action_at_t())\n",
    "  #print(\"action:\", action)\n",
    "  #print(\"\\n\")\n",
    "\n",
    "  reward = my_bandit.pulling_arm(action)\n",
    "  my_q.update(reward, action)\n",
    "  my_bandit.reward_dist_update()"
   ]
  },
  {
   "cell_type": "markdown",
   "metadata": {},
   "source": [
    "### 2000 episodes, $Q_{1} = 5, \\epsilon = 0.0$"
   ]
  },
  {
   "cell_type": "code",
   "execution_count": 6,
   "metadata": {},
   "outputs": [
    {
     "name": "stdout",
     "output_type": "stream",
     "text": [
      "episode:  0\n",
      "episode:  100\n",
      "episode:  200\n",
      "episode:  300\n",
      "episode:  400\n",
      "episode:  500\n",
      "episode:  600\n",
      "episode:  700\n",
      "episode:  800\n",
      "episode:  900\n",
      "episode:  1000\n",
      "episode:  1100\n",
      "episode:  1200\n",
      "episode:  1300\n",
      "episode:  1400\n",
      "episode:  1500\n",
      "episode:  1600\n",
      "episode:  1700\n",
      "episode:  1800\n",
      "episode:  1900\n"
     ]
    }
   ],
   "source": [
    "q_initial_value = 5.0\n",
    "epsilon = 0.0\n",
    "\n",
    "average_rewards_1 = np.zeros(max_steps)\n",
    "optimal_action_1 = np.zeros(max_steps)\n",
    "\n",
    "for episode in range(max_episodes):\n",
    "  if episode % 100 == 0:\n",
    "    print(\"episode: \", episode)\n",
    "\n",
    "  my_bandit = k_armed_bandit_machine(k_armed_bandit)\n",
    "  my_q = q_function(k_armed_bandit, alpha, q_initial_value)\n",
    "\n",
    "  for step in range(max_steps):\n",
    "    #my_bandit.reward_dist_update()\n",
    "    #print(my_bandit.reward_dist_mean)\n",
    "    # epsilon greedy method\n",
    "    if epsilon < np.random.rand():\n",
    "      action = my_q.select_action()\n",
    "    else:\n",
    "      action = np.random.choice(k_armed_bandit)\n",
    "\n",
    "    if action == my_bandit.get_optimal_action_at_t():\n",
    "      optimal_action_1[step] += 1.0\n",
    "      \n",
    "    #print(my_q.q_values)\n",
    "    #print(\"optimal:\", my_bandit.get_optimal_action_at_t())\n",
    "    #print(\"action:\", action)\n",
    "    #print(\"\\n\")\n",
    "      \n",
    "    reward = my_bandit.pulling_arm(action)\n",
    "    average_rewards_1[step] += reward\n",
    "    my_q.update(reward, action)\n",
    "    my_bandit.reward_dist_update()\n",
    "    \n",
    "average_rewards_1 /= max_episodes\n",
    "optimal_action_1 /= max_episodes"
   ]
  },
  {
   "cell_type": "markdown",
   "metadata": {},
   "source": [
    "### 2000 episodes, $Q_{1} = 0, \\epsilon = 0.1$"
   ]
  },
  {
   "cell_type": "code",
   "execution_count": 7,
   "metadata": {},
   "outputs": [
    {
     "name": "stdout",
     "output_type": "stream",
     "text": [
      "episode:  0\n",
      "episode:  100\n",
      "episode:  200\n",
      "episode:  300\n",
      "episode:  400\n",
      "episode:  500\n",
      "episode:  600\n",
      "episode:  700\n",
      "episode:  800\n",
      "episode:  900\n",
      "episode:  1000\n",
      "episode:  1100\n",
      "episode:  1200\n",
      "episode:  1300\n",
      "episode:  1400\n",
      "episode:  1500\n",
      "episode:  1600\n",
      "episode:  1700\n",
      "episode:  1800\n",
      "episode:  1900\n"
     ]
    }
   ],
   "source": [
    "q_initial_value = 0.0\n",
    "epsilon = 0.1\n",
    "\n",
    "average_rewards_2 = np.zeros(max_steps)\n",
    "optimal_action_2 = np.zeros(max_steps)\n",
    "\n",
    "for episode in range(max_episodes):\n",
    "  if episode % 100 == 0:\n",
    "    print(\"episode: \", episode)\n",
    "\n",
    "  my_bandit = k_armed_bandit_machine(k_armed_bandit)\n",
    "  my_q = q_function(k_armed_bandit, alpha, q_initial_value)\n",
    "\n",
    "  for step in range(max_steps):\n",
    "    #my_bandit.reward_dist_update()\n",
    "    # epsilon greedy method\n",
    "    if epsilon < np.random.rand():\n",
    "      action = my_q.select_action()\n",
    "    else:\n",
    "      action = np.random.choice(k_armed_bandit)\n",
    "\n",
    "    if action == my_bandit.get_optimal_action_at_t():\n",
    "      optimal_action_2[step] += 1.0\n",
    "      \n",
    "    reward = my_bandit.pulling_arm(action)\n",
    "    average_rewards_2[step] += reward\n",
    "    my_q.update(reward, action)\n",
    "    my_bandit.reward_dist_update()\n",
    "    \n",
    "average_rewards_2 /= max_episodes\n",
    "optimal_action_2 /= max_episodes"
   ]
  },
  {
   "cell_type": "markdown",
   "metadata": {},
   "source": [
    "## plot"
   ]
  },
  {
   "cell_type": "markdown",
   "metadata": {},
   "source": [
    "### average reward plot"
   ]
  },
  {
   "cell_type": "code",
   "execution_count": 8,
   "metadata": {},
   "outputs": [
    {
     "data": {
      "image/png": "[encoded data removed]",
      "text/plain": [
       "<matplotlib.figure.Figure at 0x106f87b38>"
      ]
     },
     "metadata": {},
     "output_type": "display_data"
    }
   ],
   "source": [
    "plt.plot(range(max_steps), average_rewards_1, label='q_1=5, epsilon=0.0')\n",
    "plt.plot(range(max_steps), average_rewards_2, label='q_1=0, epsilon=0.1')\n",
    "plt.legend()\n",
    "plt.show()"
   ]
  },
  {
   "cell_type": "markdown",
   "metadata": {},
   "source": [
    "### optimal action plot"
   ]
  },
  {
   "cell_type": "code",
   "execution_count": 9,
   "metadata": {},
   "outputs": [
    {
     "data": {
      "image/png": "[encoded data removed]",
      "text/plain": [
       "<matplotlib.figure.Figure at 0x106f74160>"
      ]
     },
     "metadata": {},
     "output_type": "display_data"
    }
   ],
   "source": [
    "plt.plot(range(max_steps), optimal_action_1, label='q_1=5, epsilon=0.0')\n",
    "plt.plot(range(max_steps), optimal_action_2, label='q_1=0, epsilon=0.1')\n",
    "plt.legend()\n",
    "plt.show()"
   ]
  },
  {
   "cell_type": "code",
   "execution_count": null,
   "metadata": {},
   "outputs": [],
   "source": []
  }
 ],
 "metadata": {
  "kernelspec": {
   "display_name": "Python 3",
   "language": "python",
   "name": "python3"
  },
  "language_info": {
   "codemirror_mode": {
    "name": "ipython",
    "version": 3
   },
   "file_extension": ".py",
   "mimetype": "text/x-python",
   "name": "python",
   "nbconvert_exporter": "python",
   "pygments_lexer": "ipython3",
   "version": "3.6.5"
  }
 },
 "nbformat": 4,
 "nbformat_minor": 2
}
