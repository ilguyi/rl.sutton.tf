{
 "cells": [
  {
   "cell_type": "code",
   "execution_count": 1,
   "metadata": {},
   "outputs": [],
   "source": [
    "import numpy as np\n",
    "import matplotlib.pyplot as plt\n",
    "\n",
    "np.random.seed(219)"
   ]
  },
  {
   "cell_type": "markdown",
   "metadata": {},
   "source": [
    "## hyperparameters"
   ]
  },
  {
   "cell_type": "code",
   "execution_count": 2,
   "metadata": {},
   "outputs": [],
   "source": [
    "k_armed_bandit = 10\n",
    "\n",
    "max_steps = 1000\n",
    "max_episodes = 2000\n",
    "alpha = 0.1\n",
    "initial_mean = 4.0"
   ]
  },
  {
   "cell_type": "markdown",
   "metadata": {},
   "source": [
    "## definition of function and class"
   ]
  },
  {
   "cell_type": "code",
   "execution_count": 3,
   "metadata": {},
   "outputs": [],
   "source": [
    "class k_armed_bandit_machine:\n",
    "  def __init__(self, k_armed_bandit, initial_mean):\n",
    "    self.k_armed_bandit = k_armed_bandit\n",
    "    \n",
    "    self.reward_dist_mean = np.random.normal(loc=initial_mean, scale=1.0, size=[self.k_armed_bandit])\n",
    "    #print(\"reward_dist_mean: expected reward q*\")\n",
    "    #print(self.reward_dist_mean)\n",
    "\n",
    "    self.reward_dist_stddev = np.ones(self.k_armed_bandit)\n",
    "    #print(\"reward_dist_stddev: standard deviation of expected reward q*\")\n",
    "    #print(self.reward_dist_stddev)\n",
    "    \n",
    "  def pulling_arm(self, arm_number):\n",
    "    \"\"\"pull k armed bandit machine given arm_number\n",
    "    Args:\n",
    "      arm_number: int, machine number we select. [0, k_armed_bandit-1]\n",
    "\n",
    "    Returns:\n",
    "      reward: reward of the machine we select from normal distribution.\n",
    "    \"\"\"\n",
    "    assert arm_number < self.k_armed_bandit\n",
    "    return np.random.normal(loc=self.reward_dist_mean[arm_number],\n",
    "                            scale=self.reward_dist_stddev[arm_number])\n",
    "  \n",
    "  def reward_dist_update(self):\n",
    "    random_walk_size = np.random.normal(loc=0.0, scale=0.01, size=[self.k_armed_bandit])\n",
    "    self.reward_dist_mean += random_walk_size\n",
    "    \n",
    "  def get_optimal_action_at_t(self):\n",
    "    self.optimal_action = np.argmax(self.reward_dist_mean)\n",
    "    return self.optimal_action"
   ]
  },
  {
   "cell_type": "code",
   "execution_count": 4,
   "metadata": {},
   "outputs": [],
   "source": [
    "class q_function:\n",
    "  def __init__(self, k_armed_bandit, alpha, is_baseline=True):\n",
    "    self.k_armed_bandit = k_armed_bandit\n",
    "    self.preference = np.zeros(k_armed_bandit)\n",
    "    self.probability = np.zeros(k_armed_bandit)\n",
    "    self.sum_reward = 0.0\n",
    "    self.alpha = alpha\n",
    "    self.is_baseline = is_baseline\n",
    "    \n",
    "  def get_softmax(self):\n",
    "    max_preference = np.max(self.preference)\n",
    "    preference = np.exp(self.preference - max_preference)\n",
    "    self.probability = preference / np.sum(preference)\n",
    "    return self.probability\n",
    "    \n",
    "  def select_action(self):\n",
    "    self.get_softmax()\n",
    "    return np.random.choice(10, 1, p=self.probability)\n",
    "  \n",
    "  def update(self, reward, action, time):\n",
    "    if self.is_baseline:\n",
    "      for i in range(self.k_armed_bandit):\n",
    "        if i != action:\n",
    "          self.preference[i] -= self.alpha * (reward - self.sum_reward/time) * self.probability[i]\n",
    "        else:\n",
    "          self.preference[i] += self.alpha * (reward - self.sum_reward/time) * (1.0 - self.probability[i])\n",
    "    else:\n",
    "      for i in range(self.k_armed_bandit):\n",
    "        if i != action:\n",
    "          self.preference[i] -= self.alpha * reward * self.probability[i]\n",
    "        else:\n",
    "          self.preference[i] += self.alpha * reward * (1.0 - self.probability[i])\n",
    "\n",
    "    self.sum_reward += reward"
   ]
  },
  {
   "cell_type": "markdown",
   "metadata": {},
   "source": [
    "## Training"
   ]
  },
  {
   "cell_type": "markdown",
   "metadata": {},
   "source": [
    "### one episode, $\\alpha = 0.1$ with baseline for code validation"
   ]
  },
  {
   "cell_type": "code",
   "execution_count": 5,
   "metadata": {
    "scrolled": true
   },
   "outputs": [],
   "source": [
    "my_bandit = k_armed_bandit_machine(k_armed_bandit, initial_mean)\n",
    "my_q = q_function(k_armed_bandit, alpha)\n",
    "\n",
    "for step in range(max_steps):\n",
    "  # gradient bandit algorithms\n",
    "  # No need epsilon\n",
    "  action = my_q.select_action()\n",
    "  \n",
    "  #print(\"optimal:\", my_bandit.get_optimal_action_at_t())\n",
    "  #print(\"action:\", action)\n",
    "  #print(\"\\n\")\n",
    "\n",
    "  reward = my_bandit.pulling_arm(action)\n",
    "  my_q.update(reward, action, step + 1)\n",
    "  my_bandit.reward_dist_update()"
   ]
  },
  {
   "cell_type": "markdown",
   "metadata": {},
   "source": [
    "### 2000 episode, $\\alpha = 0.1$ with baseline"
   ]
  },
  {
   "cell_type": "code",
   "execution_count": 6,
   "metadata": {},
   "outputs": [
    {
     "name": "stdout",
     "output_type": "stream",
     "text": [
      "episode:  0\n",
      "episode:  100\n",
      "episode:  200\n",
      "episode:  300\n",
      "episode:  400\n",
      "episode:  500\n",
      "episode:  600\n",
      "episode:  700\n",
      "episode:  800\n",
      "episode:  900\n",
      "episode:  1000\n",
      "episode:  1100\n",
      "episode:  1200\n",
      "episode:  1300\n",
      "episode:  1400\n",
      "episode:  1500\n",
      "episode:  1600\n",
      "episode:  1700\n",
      "episode:  1800\n",
      "episode:  1900\n"
     ]
    }
   ],
   "source": [
    "alpha = 0.1\n",
    "is_baseline = True\n",
    "\n",
    "average_rewards_1 = np.zeros(max_steps)\n",
    "optimal_action_1 = np.zeros(max_steps)\n",
    "\n",
    "for episode in range(max_episodes):\n",
    "  if episode % 100 == 0:\n",
    "    print(\"episode: \", episode)\n",
    "\n",
    "  my_bandit = k_armed_bandit_machine(k_armed_bandit, initial_mean)\n",
    "  my_q = q_function(k_armed_bandit, alpha, is_baseline)\n",
    "\n",
    "  for step in range(max_steps):\n",
    "    # gradient bandit algorithms\n",
    "    # No need epsilon\n",
    "    action = my_q.select_action()\n",
    "\n",
    "    if action == my_bandit.get_optimal_action_at_t():\n",
    "      optimal_action_1[step] += 1.0\n",
    "\n",
    "    #print(\"optimal:\", my_bandit.get_optimal_action_at_t())\n",
    "    #print(\"action:\", action)\n",
    "    #print(\"\\n\")\n",
    "      \n",
    "    reward = my_bandit.pulling_arm(action)\n",
    "    average_rewards_1[step] += reward\n",
    "    my_q.update(reward, action, step + 1)\n",
    "    my_bandit.reward_dist_update()\n",
    "    \n",
    "average_rewards_1 /= max_episodes\n",
    "optimal_action_1 /= max_episodes"
   ]
  },
  {
   "cell_type": "markdown",
   "metadata": {},
   "source": [
    "### 2000 episode, $\\alpha = 0.4$ with baseline"
   ]
  },
  {
   "cell_type": "code",
   "execution_count": 7,
   "metadata": {},
   "outputs": [
    {
     "name": "stdout",
     "output_type": "stream",
     "text": [
      "episode:  0\n",
      "episode:  100\n",
      "episode:  200\n",
      "episode:  300\n",
      "episode:  400\n",
      "episode:  500\n",
      "episode:  600\n",
      "episode:  700\n",
      "episode:  800\n",
      "episode:  900\n",
      "episode:  1000\n",
      "episode:  1100\n",
      "episode:  1200\n",
      "episode:  1300\n",
      "episode:  1400\n",
      "episode:  1500\n",
      "episode:  1600\n",
      "episode:  1700\n",
      "episode:  1800\n",
      "episode:  1900\n"
     ]
    }
   ],
   "source": [
    "alpha = 0.4\n",
    "is_baseline = True\n",
    "\n",
    "average_rewards_2 = np.zeros(max_steps)\n",
    "optimal_action_2 = np.zeros(max_steps)\n",
    "\n",
    "for episode in range(max_episodes):\n",
    "  if episode % 100 == 0:\n",
    "    print(\"episode: \", episode)\n",
    "\n",
    "  my_bandit = k_armed_bandit_machine(k_armed_bandit, initial_mean)\n",
    "  my_q = q_function(k_armed_bandit, alpha, is_baseline)\n",
    "\n",
    "  for step in range(max_steps):\n",
    "    # gradient bandit algorithms\n",
    "    # No need epsilon\n",
    "    action = my_q.select_action()\n",
    "\n",
    "    if action == my_bandit.get_optimal_action_at_t():\n",
    "      optimal_action_2[step] += 1.0\n",
    "\n",
    "    #print(\"optimal:\", my_bandit.get_optimal_action_at_t())\n",
    "    #print(\"action:\", action)\n",
    "    #print(\"\\n\")\n",
    "      \n",
    "    reward = my_bandit.pulling_arm(action)\n",
    "    average_rewards_2[step] += reward\n",
    "    my_q.update(reward, action, step + 1)\n",
    "    my_bandit.reward_dist_update()\n",
    "    \n",
    "average_rewards_2 /= max_episodes\n",
    "optimal_action_2 /= max_episodes"
   ]
  },
  {
   "cell_type": "markdown",
   "metadata": {},
   "source": [
    "### 2000 episode, $\\alpha = 0.1$ w/o baseline"
   ]
  },
  {
   "cell_type": "code",
   "execution_count": 8,
   "metadata": {},
   "outputs": [
    {
     "name": "stdout",
     "output_type": "stream",
     "text": [
      "episode:  0\n",
      "episode:  100\n",
      "episode:  200\n",
      "episode:  300\n",
      "episode:  400\n",
      "episode:  500\n",
      "episode:  600\n",
      "episode:  700\n",
      "episode:  800\n",
      "episode:  900\n",
      "episode:  1000\n",
      "episode:  1100\n",
      "episode:  1200\n",
      "episode:  1300\n",
      "episode:  1400\n",
      "episode:  1500\n",
      "episode:  1600\n",
      "episode:  1700\n",
      "episode:  1800\n",
      "episode:  1900\n"
     ]
    }
   ],
   "source": [
    "alpha = 0.1\n",
    "is_baseline = False\n",
    "\n",
    "average_rewards_3 = np.zeros(max_steps)\n",
    "optimal_action_3 = np.zeros(max_steps)\n",
    "\n",
    "for episode in range(max_episodes):\n",
    "  if episode % 100 == 0:\n",
    "    print(\"episode: \", episode)\n",
    "\n",
    "  my_bandit = k_armed_bandit_machine(k_armed_bandit, initial_mean)\n",
    "  my_q = q_function(k_armed_bandit, alpha, is_baseline)\n",
    "\n",
    "  for step in range(max_steps):\n",
    "    # gradient bandit algorithms\n",
    "    # No need epsilon\n",
    "    action = my_q.select_action()\n",
    "\n",
    "    if action == my_bandit.get_optimal_action_at_t():\n",
    "      optimal_action_3[step] += 1.0\n",
    "\n",
    "    #print(\"optimal:\", my_bandit.get_optimal_action_at_t())\n",
    "    #print(\"action:\", action)\n",
    "    #print(\"\\n\")\n",
    "      \n",
    "    reward = my_bandit.pulling_arm(action)\n",
    "    average_rewards_3[step] += reward\n",
    "    my_q.update(reward, action, step + 1)\n",
    "    my_bandit.reward_dist_update()\n",
    "    \n",
    "average_rewards_3 /= max_episodes\n",
    "optimal_action_3 /= max_episodes"
   ]
  },
  {
   "cell_type": "markdown",
   "metadata": {},
   "source": [
    "### 2000 episode, $\\alpha = 0.4$ w/o baseline"
   ]
  },
  {
   "cell_type": "code",
   "execution_count": 9,
   "metadata": {},
   "outputs": [
    {
     "name": "stdout",
     "output_type": "stream",
     "text": [
      "episode:  0\n",
      "episode:  100\n",
      "episode:  200\n",
      "episode:  300\n",
      "episode:  400\n",
      "episode:  500\n",
      "episode:  600\n",
      "episode:  700\n",
      "episode:  800\n",
      "episode:  900\n",
      "episode:  1000\n",
      "episode:  1100\n",
      "episode:  1200\n",
      "episode:  1300\n",
      "episode:  1400\n",
      "episode:  1500\n",
      "episode:  1600\n",
      "episode:  1700\n",
      "episode:  1800\n",
      "episode:  1900\n"
     ]
    }
   ],
   "source": [
    "alpha = 0.4\n",
    "is_baseline = False\n",
    "\n",
    "average_rewards_4 = np.zeros(max_steps)\n",
    "optimal_action_4 = np.zeros(max_steps)\n",
    "\n",
    "for episode in range(max_episodes):\n",
    "  if episode % 100 == 0:\n",
    "    print(\"episode: \", episode)\n",
    "\n",
    "  my_bandit = k_armed_bandit_machine(k_armed_bandit, initial_mean)\n",
    "  my_q = q_function(k_armed_bandit, alpha, is_baseline)\n",
    "\n",
    "  for step in range(max_steps):\n",
    "    # gradient bandit algorithms\n",
    "    # No need epsilon\n",
    "    action = my_q.select_action()\n",
    "\n",
    "    if action == my_bandit.get_optimal_action_at_t():\n",
    "      optimal_action_4[step] += 1.0\n",
    "\n",
    "    #print(\"optimal:\", my_bandit.get_optimal_action_at_t())\n",
    "    #print(\"action:\", action)\n",
    "    #print(\"\\n\")\n",
    "      \n",
    "    reward = my_bandit.pulling_arm(action)\n",
    "    average_rewards_4[step] += reward\n",
    "    my_q.update(reward, action, step + 1)\n",
    "    my_bandit.reward_dist_update()\n",
    "    \n",
    "average_rewards_4 /= max_episodes\n",
    "optimal_action_4 /= max_episodes"
   ]
  },
  {
   "cell_type": "markdown",
   "metadata": {},
   "source": [
    "## plot"
   ]
  },
  {
   "cell_type": "markdown",
   "metadata": {},
   "source": [
    "### average reward plot"
   ]
  },
  {
   "cell_type": "code",
   "execution_count": 10,
   "metadata": {},
   "outputs": [
    {
     "data": {
      "image/png": "[encoded data removed]",
      "text/plain": [
       "<matplotlib.figure.Figure at 0x1042dc4a8>"
      ]
     },
     "metadata": {},
     "output_type": "display_data"
    }
   ],
   "source": [
    "plt.plot(range(max_steps), average_rewards_1, label='alpha=0.1 with baseline')\n",
    "plt.plot(range(max_steps), average_rewards_2, label='alpha=0.4 with baseline')\n",
    "plt.plot(range(max_steps), average_rewards_3, label='alpha=0.1 w/o baseline')\n",
    "plt.plot(range(max_steps), average_rewards_4, label='alpha=0.4 w/o baseline')\n",
    "plt.legend()\n",
    "plt.show()"
   ]
  },
  {
   "cell_type": "markdown",
   "metadata": {},
   "source": [
    "### optimal action plot"
   ]
  },
  {
   "cell_type": "code",
   "execution_count": 11,
   "metadata": {},
   "outputs": [
    {
     "data": {
      "image/png": "[encoded data removed]",
      "text/plain": [
       "<matplotlib.figure.Figure at 0x104302668>"
      ]
     },
     "metadata": {},
     "output_type": "display_data"
    }
   ],
   "source": [
    "plt.plot(range(max_steps), optimal_action_1, label='alpha=0.1 with baseline')\n",
    "plt.plot(range(max_steps), optimal_action_2, label='alpha=0.4 with baseline')\n",
    "plt.plot(range(max_steps), optimal_action_3, label='alpha=0.1 w/o baseline')\n",
    "plt.plot(range(max_steps), optimal_action_4, label='alpha=0.4 w.o baseline')\n",
    "plt.legend()\n",
    "plt.show()"
   ]
  },
  {
   "cell_type": "code",
   "execution_count": null,
   "metadata": {},
   "outputs": [],
   "source": []
  }
 ],
 "metadata": {
  "kernelspec": {
   "display_name": "Python 3",
   "language": "python",
   "name": "python3"
  },
  "language_info": {
   "codemirror_mode": {
    "name": "ipython",
    "version": 3
   },
   "file_extension": ".py",
   "mimetype": "text/x-python",
   "name": "python",
   "nbconvert_exporter": "python",
   "pygments_lexer": "ipython3",
   "version": "3.6.5"
  }
 },
 "nbformat": 4,
 "nbformat_minor": 2
}
